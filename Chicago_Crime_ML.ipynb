{
  "cells": [
    {
      "cell_type": "code",
      "execution_count": null,
      "metadata": {
        "id": "obx9G8u--BeS"
      },
      "outputs": [],
      "source": [
        "import numpy as np\n",
        "import pandas as pd\n",
        "import matplotlib.pyplot as plt\n",
        "import seaborn as sns\n",
        "import statsmodels.api as sm\n",
        "from sklearn.metrics import confusion_matrix,accuracy_score,jaccard_score,f1_score,log_loss,classification_report\n",
        "from sklearn.model_selection import train_test_split\n",
        "from sklearn import preprocessing\n",
        "from joblib import dump, load\n",
        "dest = '/content/drive/MyDrive/Python/Chicago-Crime/'\n",
        "BaseDat = pd.read_csv(dest + 'Chicago_Crime_Final_Data.csv')"
      ]
    },
    {
      "cell_type": "code",
      "execution_count": null,
      "metadata": {
        "id": "PEOpTZC8AAom"
      },
      "outputs": [],
      "source": [
        "#- i will keep only the most frequent types for prediction -#\n",
        "KeepList = ['BATTERY','THEFT','CRIMINAL DAMAGE','ASSAULT','DECEPTIVE PRACTICE',\n",
        "            'OTHER OFFENSE','MOTOR VEHICLE THEFT','WEAPONS VIOLATION','ROBBERY','BURGLARY']\n",
        "BaseDat = BaseDat[BaseDat['primary_type'].isin(KeepList)]\n",
        "BaseDat['Location_Desc'] = BaseDat.location_description.astype(\"category\").cat.codes\n",
        "BaseDat = BaseDat.drop(columns=['location_description','Date'])\n",
        "BaseDat.primary_type = BaseDat.primary_type.str.replace(' ', '_')\n",
        "BaseDat.head(3) "
      ]
    },
    {
      "cell_type": "markdown",
      "metadata": {
        "id": "7Lz3m7fkFdch"
      },
      "source": [
        "## Descriptive stat"
      ]
    },
    {
      "cell_type": "code",
      "execution_count": null,
      "metadata": {
        "id": "KvY4NawtFct7"
      },
      "outputs": [],
      "source": [
        "print(BaseDat['Location_Desc'].value_counts())\n",
        "print(BaseDat['primary_type'].value_counts())\n",
        "pd.DataFrame(BaseDat.groupby('primary_type').mean()).to_excel(dest + 'Features-Mean-by-Type.xlsx')\n",
        "BaseDat = pd.concat([BaseDat,pd.get_dummies(BaseDat['primary_type'])], axis = 1)\n",
        "pd.DataFrame(BaseDat.corr()).to_excel(dest + 'Corr_mat.xlsx')"
      ]
    },
    {
      "cell_type": "code",
      "execution_count": null,
      "metadata": {
        "id": "UkDLEGj1J2jm"
      },
      "outputs": [],
      "source": [
        "#- logistic regression for learning the data -#\n",
        "# choose for y the type of crime you want to be as dep. var\n",
        "DropList = ['primary_type', 'ASSAULT','BATTERY', 'BURGLARY', 'CRIMINAL_DAMAGE', 'DECEPTIVE_PRACTICE',\n",
        "       'MOTOR_VEHICLE_THEFT', 'OTHER_OFFENSE', 'ROBBERY', 'THEFT','WEAPONS_VIOLATION']\n",
        "Dep = BaseDat.loc[:, BaseDat.columns == 'ASSAULT']\n",
        "Ind = BaseDat.drop(DropList,axis=1)\n",
        "print(Ind.columns)\n",
        "log_reg = sm.Logit(Dep, Ind).fit()\n",
        "print(log_reg.summary())\n",
        "print(np.exp(log_reg.params))"
      ]
    },
    {
      "cell_type": "markdown",
      "metadata": {
        "id": "D0fuxOZNuCVW"
      },
      "source": [
        "### Standartization and spliting"
      ]
    },
    {
      "cell_type": "code",
      "execution_count": null,
      "metadata": {
        "id": "HvlLIx5suKw1"
      },
      "outputs": [],
      "source": [
        "y = BaseDat.loc[:, BaseDat.columns == 'primary_type']\n",
        "X = BaseDat.drop(DropList,axis=1)\n",
        "#- convert to arrays -#\n",
        "X = np.asarray(X)\n",
        "y = np.asarray(y)\n",
        "#- standardizing the features and spliting for train/test -#\n",
        "X = preprocessing.StandardScaler().fit(X).transform(X)\n",
        "print(X.shape)\n",
        "#- split -#\n",
        "X_train, X_test, y_train, y_test = train_test_split(X, y, test_size=0.2, stratify=y, random_state=0)\n",
        "print(X_train.shape, X_test.shape, y_train.shape, y_test.shape)"
      ]
    },
    {
      "cell_type": "markdown",
      "metadata": {
        "id": "Z5d_WQO3tlil"
      },
      "source": [
        "# Multi-Class Classification Scikit-Learn Models:"
      ]
    },
    {
      "cell_type": "markdown",
      "source": [
        "## **note:** this step is taking more than a hour of run"
      ],
      "metadata": {
        "id": "QI0u3h1VwPBM"
      }
    },
    {
      "cell_type": "code",
      "execution_count": null,
      "metadata": {
        "id": "e1FAoP3vtkJF",
        "colab": {
          "base_uri": "https://localhost:8080/"
        },
        "outputId": "5dc65822-9bbb-432c-9a8a-13907c4f111a"
      },
      "outputs": [
        {
          "output_type": "stream",
          "name": "stderr",
          "text": [
            "/usr/local/lib/python3.7/dist-packages/sklearn/neural_network/_multilayer_perceptron.py:1109: DataConversionWarning: A column-vector y was passed when a 1d array was expected. Please change the shape of y to (n_samples, ), for example using ravel().\n",
            "  y = column_or_1d(y, warn=True)\n",
            "/usr/local/lib/python3.7/dist-packages/sklearn/neural_network/_multilayer_perceptron.py:641: ConvergenceWarning: Stochastic Optimizer: Maximum iterations (200) reached and the optimization hasn't converged yet.\n",
            "  intercept_grads,\n",
            "/usr/local/lib/python3.7/dist-packages/ipykernel_launcher.py:8: DataConversionWarning: A column-vector y was passed when a 1d array was expected. Please change the shape of y to (n_samples,), for example using ravel().\n",
            "  \n",
            "/usr/local/lib/python3.7/dist-packages/sklearn/neighbors/_classification.py:198: DataConversionWarning: A column-vector y was passed when a 1d array was expected. Please change the shape of y to (n_samples,), for example using ravel().\n",
            "  return self._fit(X, y)\n",
            "/usr/local/lib/python3.7/dist-packages/sklearn/utils/validation.py:985: DataConversionWarning: A column-vector y was passed when a 1d array was expected. Please change the shape of y to (n_samples, ), for example using ravel().\n",
            "  y = column_or_1d(y, warn=True)\n",
            "/usr/local/lib/python3.7/dist-packages/sklearn/utils/validation.py:985: DataConversionWarning: A column-vector y was passed when a 1d array was expected. Please change the shape of y to (n_samples, ), for example using ravel().\n",
            "  y = column_or_1d(y, warn=True)\n"
          ]
        }
      ],
      "source": [
        "from sklearn.neighbors import KNeighborsClassifier\n",
        "from sklearn.ensemble import RandomForestClassifier\n",
        "from sklearn.neural_network import MLPClassifier\n",
        "from sklearn.linear_model import LogisticRegressionCV\n",
        "from sklearn.svm import SVC\n",
        "# fit the models\n",
        "MLPC_classifier = MLPClassifier().fit(X_train, y_train)\n",
        "RFC_classifier = RandomForestClassifier().fit(X_train, y_train)\n",
        "KNN_classifier = KNeighborsClassifier().fit(X_train, y_train)\n",
        "LOG_classifier = LogisticRegressionCV().fit(X_train, y_train)\n",
        "SVM_classifier = SVC(kernel='linear',C=1).fit(X_train, y_train)\n",
        "# save the fitted models for future use\n",
        "dump(MLPC_classifier, str(dest + 'MLPC.joblib'))\n",
        "dump(RFC_classifier, str(dest + 'RFC.joblib'))\n",
        "dump(KNN_classifier, str(dest + 'KNN.joblib'))\n",
        "dump(LOG_classifier, str(dest + 'LOG.joblib'))\n",
        "dump(SVM_classifier, str(dest + 'SVM.joblib'))\n",
        "# perdict the output\n",
        "MLPC_Pred = MLPC_classifier.predict(X_test)\n",
        "RFC_Pred = RFC_classifier.predict(X_test)\n",
        "KNN_Pred = KNN_classifier.predict(X_test)\n",
        "LOG_Pred = LOG_classifier.predict(X_test)\n",
        "SVM_Pred = SVM_classifier.predict(X_test)"
      ]
    },
    {
      "cell_type": "code",
      "execution_count": null,
      "metadata": {
        "id": "x6Yh9QwZ_nmD",
        "colab": {
          "base_uri": "https://localhost:8080/"
        },
        "outputId": "7fe06aee-7340-4f7f-ee8d-c9bb894b0f51"
      },
      "outputs": [
        {
          "output_type": "stream",
          "name": "stdout",
          "text": [
            "  Model  Accuracy\n",
            "0  MLPC  0.290829\n",
            "1   RFC  0.271072\n",
            "3   LOG  0.248267\n",
            "4   SVM  0.235614\n",
            "2   KNN  0.195008\n"
          ]
        }
      ],
      "source": [
        "# accuracy comparison\n",
        "Compare_Table = pd.DataFrame(columns=['Model','Accuracy'])\n",
        "PredList = [MLPC_Pred,RFC_Pred,KNN_Pred,LOG_Pred,SVM_Pred]\n",
        "ModelsList = ['MLPC','RFC','KNN','LOG','SVM']\n",
        "for k in range(0,5):\n",
        "  Accu = accuracy_score(y_test, PredList[k])\n",
        "  Compare_Table = Compare_Table.append({'Model': ModelsList[k], 'Accuracy': Accu}, ignore_index=True)\n",
        "\n",
        "Compare_Table = Compare_Table.sort_values(by='Accuracy', ascending=False)\n",
        "print(Compare_Table)"
      ]
    },
    {
      "cell_type": "markdown",
      "metadata": {
        "id": "DKf0KgCU8r-N"
      },
      "source": [
        "## Confusion Matrix for the best model"
      ]
    },
    {
      "cell_type": "code",
      "execution_count": null,
      "metadata": {
        "id": "pruJJClU8rKl",
        "colab": {
          "base_uri": "https://localhost:8080/",
          "height": 676
        },
        "outputId": "8923a581-0adc-4636-efcc-1fd8ffd64979"
      },
      "outputs": [
        {
          "output_type": "stream",
          "name": "stdout",
          "text": [
            "[['ASSAULT' 3788]\n",
            " ['BATTERY' 7520]\n",
            " ['BURGLARY' 1205]\n",
            " ['CRIMINAL_DAMAGE' 4619]\n",
            " ['DECEPTIVE_PRACTICE' 2833]\n",
            " ['MOTOR_VEHICLE_THEFT' 1923]\n",
            " ['OTHER_OFFENSE' 2563]\n",
            " ['ROBBERY' 1432]\n",
            " ['THEFT' 7204]\n",
            " ['WEAPONS_VIOLATION' 1686]]\n"
          ]
        },
        {
          "output_type": "display_data",
          "data": {
            "image/png": "[encoded data removed]",
            "text/plain": [
              "<Figure size 1080x576 with 2 Axes>"
            ]
          },
          "metadata": {
            "needs_background": "light"
          }
        }
      ],
      "source": [
        "print(np.array(np.unique(y_test, return_counts=True)).T)\n",
        "fig, ax = plt.subplots(figsize=(15, 8))\n",
        "ax = sns.heatmap(confusion_matrix(y_test, MLPC_Pred), annot=True, fmt=\"d\")\n",
        "plt.xlabel('Predicted', fontsize = 15)\n",
        "plt.ylabel('Actual', fontsize = 15)\n",
        "plt.show()"
      ]
    },
    {
      "cell_type": "markdown",
      "metadata": {
        "id": "haG-BzdVGkaT"
      },
      "source": [
        "## let's try without the climate data"
      ]
    },
    {
      "cell_type": "code",
      "source": [
        "BaseDat.columns"
      ],
      "metadata": {
        "id": "e2v-0jo5Y8u9",
        "colab": {
          "base_uri": "https://localhost:8080/"
        },
        "outputId": "349b4b55-6492-46fa-9589-8a7c7f41bfcf"
      },
      "execution_count": null,
      "outputs": [
        {
          "output_type": "execute_result",
          "data": {
            "text/plain": [
              "Index(['primary_type', 'beat', 'ward', 'Hour', 'HubDist', 'PRCP', 'SNOW',\n",
              "       'SNWD', 'TMAX', 'TMIN', 'WDF2', 'WSF2', 'WT01', 'WT02', 'WT03', 'WT04',\n",
              "       'WT06', 'WT08', 'WT09', 'DayOfWeek', 'Month', 'Dholiday',\n",
              "       'Location_Desc', 'ASSAULT', 'BATTERY', 'BURGLARY', 'CRIMINAL_DAMAGE',\n",
              "       'DECEPTIVE_PRACTICE', 'MOTOR_VEHICLE_THEFT', 'OTHER_OFFENSE', 'ROBBERY',\n",
              "       'THEFT', 'WEAPONS_VIOLATION'],\n",
              "      dtype='object')"
            ]
          },
          "metadata": {},
          "execution_count": 9
        }
      ]
    },
    {
      "cell_type": "code",
      "execution_count": null,
      "metadata": {
        "id": "RqcKgctgGjim",
        "colab": {
          "base_uri": "https://localhost:8080/"
        },
        "outputId": "c0f2597b-781a-48b0-eca3-76f1a60f19d0"
      },
      "outputs": [
        {
          "output_type": "stream",
          "name": "stdout",
          "text": [
            "Index(['beat', 'ward', 'Hour', 'HubDist', 'DayOfWeek', 'Month', 'Dholiday',\n",
            "       'Location_Desc'],\n",
            "      dtype='object')\n",
            "(173865, 8)\n",
            "(139092, 8) (34773, 8) (139092, 1) (34773, 1)\n"
          ]
        },
        {
          "output_type": "stream",
          "name": "stderr",
          "text": [
            "/usr/local/lib/python3.7/dist-packages/sklearn/neural_network/_multilayer_perceptron.py:1109: DataConversionWarning: A column-vector y was passed when a 1d array was expected. Please change the shape of y to (n_samples, ), for example using ravel().\n",
            "  y = column_or_1d(y, warn=True)\n",
            "/usr/local/lib/python3.7/dist-packages/sklearn/neural_network/_multilayer_perceptron.py:641: ConvergenceWarning: Stochastic Optimizer: Maximum iterations (200) reached and the optimization hasn't converged yet.\n",
            "  intercept_grads,\n"
          ]
        },
        {
          "output_type": "stream",
          "name": "stdout",
          "text": [
            "Accuracy without Climate Features: 0.29511402524947516\n"
          ]
        }
      ],
      "source": [
        "from sklearn.neural_network import MLPClassifier\n",
        "ClimateVarList = ['PRCP', 'SNOW','SNWD', 'TMAX', 'TMIN', 'WDF2', 'WSF2', 'WT01', 'WT02', 'WT03', 'WT04','WT06', 'WT08', 'WT09']\n",
        "y = BaseDat.loc[:, BaseDat.columns == 'primary_type']\n",
        "X = BaseDat.drop(DropList,axis=1)\n",
        "X = X.drop(ClimateVarList,axis=1)\n",
        "print(X.columns)\n",
        "#- convert to arrays -#\n",
        "X = np.asarray(X)\n",
        "y = np.asarray(y)\n",
        "#- standardizing the features and spliting for train/test -#\n",
        "X = preprocessing.StandardScaler().fit(X).transform(X)\n",
        "print(X.shape)\n",
        "#- split -#\n",
        "X_train, X_test, y_train, y_test = train_test_split(X, y, test_size=0.2, stratify=y, random_state=0)\n",
        "print(X_train.shape, X_test.shape, y_train.shape, y_test.shape)\n",
        "# fit the MLPC model\n",
        "MLPC_No_Clim = MLPClassifier().fit(X_train, y_train)\n",
        "dump(MLPC_No_Clim, str(dest + 'MLPC_No_Clim.joblib'))\n",
        "# perdict the output\n",
        "MLPC_No_Clim_Pred = MLPC_No_Clim.predict(X_test)\n",
        "Accu = accuracy_score(y_test,MLPC_No_Clim_Pred)\n",
        "print('Accuracy without Climate Features:', Accu)"
      ]
    }
  ],
  "metadata": {
    "colab": {
      "collapsed_sections": [],
      "name": "Chicago-Crime.ipynb",
      "provenance": []
    },
    "kernelspec": {
      "display_name": "Python 3",
      "name": "python3"
    },
    "language_info": {
      "name": "python"
    }
  },
  "nbformat": 4,
  "nbformat_minor": 0
}