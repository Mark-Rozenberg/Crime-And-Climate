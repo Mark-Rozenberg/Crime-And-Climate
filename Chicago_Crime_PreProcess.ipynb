{
  "nbformat": 4,
  "nbformat_minor": 0,
  "metadata": {
    "colab": {
      "name": "Chicago-Crime-PreProcess.ipynb",
      "provenance": [],
      "collapsed_sections": []
    },
    "kernelspec": {
      "name": "python3",
      "display_name": "Python 3"
    },
    "language_info": {
      "name": "python"
    }
  },
  "cells": [
    {
      "cell_type": "code",
      "execution_count": null,
      "metadata": {
        "id": "DtjqyUOUrM3i"
      },
      "outputs": [],
      "source": [
        "import pandas as pd\n",
        "import numpy as np\n",
        "import datetime\n",
        "dest = '/content/'\n",
        "#-------------------------------------------------------------#\n",
        "#- Step 1 - create list of us Chicago Weather stations codes -#\n",
        "#-------------------------------------------------------------#\n",
        "Chicago_Stations = pd.read_csv(dest + 'Chicago_Wards_Stations.csv', header=0 ,usecols=[0], names=['StationCode'])['StationCode'].tolist()\n",
        "print(Chicago_Stations[:5])\n",
        "print(len(Chicago_Stations))"
      ]
    },
    {
      "cell_type": "code",
      "source": [
        "#-----------------------------------------------------------------------#\n",
        "#- Step 2 - extract from the raw Climate file only Chicago information -#\n",
        "#-----------------------------------------------------------------------#\n",
        "VarDict = {'StationCode': str, 'Date':int, 'Flag': str, 'Observation': int}\n",
        "\n",
        "# - read climate data -#\n",
        "chunk = pd.read_csv(dest + '2021.csv', header=None, chunksize=300000,\n",
        "                    usecols=[0,1,2,3], names=['StationCode', 'Date', 'Flag', 'Observation'], dtype=VarDict)\n",
        "ClimDat = pd.concat(df[(df.StationCode.isin(Chicago_Stations))] for df in chunk)\n",
        "ClimDat.to_csv(dest + 'Chicago_Climate_2021.csv',index=False)"
      ],
      "metadata": {
        "id": "-OVvfhv2rTkk"
      },
      "execution_count": null,
      "outputs": []
    },
    {
      "cell_type": "code",
      "source": [
        "#-----------------------------------------------------------------------------------------------------------------------#\n",
        "#- Step 3 - Transpose such that: for each 'date' will have variables with the mean of the indicators from all stations -#\n",
        "#-----------------------------------------------------------------------------------------------------------------------#\n",
        "Chicago_Climate_2021_Tran = (ClimDat.melt(['Date', 'Flag', 'Observation'])\n",
        "        .pivot_table(index='Date',columns='Flag',values='Observation',aggfunc='mean')\n",
        "        .reset_index()\n",
        "        .rename_axis(None, axis=1))\n"
      ],
      "metadata": {
        "id": "SSqlmPXtrTnC"
      },
      "execution_count": null,
      "outputs": []
    },
    {
      "cell_type": "code",
      "source": [
        "#------------------------------#\n",
        "#- Step 4 - add more variables -#\n",
        "#------------------------------#\n",
        "#- add day of week and month -#\n",
        "Chicago_Climate_2021_Tran['Date'] = pd.to_datetime(Chicago_Climate_2021_Tran['Date'])\n",
        "Chicago_Climate_2021_Tran['DayOfWeek'] = Chicago_Climate_2021_Tran['Date'].dt.dayofweek\n",
        "Chicago_Climate_2021_Tran['Month'] = pd.DatetimeIndex(Chicago_Climate_2021_Tran['Date']).month\n",
        "#- add federal holidays -#\n",
        "Holidays_DF = pd.read_csv(dest + 'Holidays.csv',usecols=[0,1])\n",
        "Holidays_DF['Date'] = pd.to_datetime(Holidays_DF['Date'])\n",
        "Chicago_Climate_2021_Tran = Chicago_Climate_2021_Tran.merge(Holidays_DF, how='left', on='Date')"
      ],
      "metadata": {
        "id": "29ua8donrTpf"
      },
      "execution_count": null,
      "outputs": []
    },
    {
      "cell_type": "code",
      "source": [
        "#-----------------------------#\n",
        "#- Step 5 - data exploration -#\n",
        "#-----------------------------#\n",
        "Corr_Mat = Chicago_Climate_2021_Tran.corr()\n",
        "Corr_Mat.to_csv(dest + 'Chicago_Climate_Corr_Mat.csv',index=False)\n",
        "#- group 1 plots -#\n",
        "fig, axs = plt.subplots(3, 2)\n",
        "axs[0, 0].plot(x, Chicago_Climate_2021_Tran['PRCP'])\n",
        "axs[0, 0].set_title(\"Precipitation\")\n",
        "axs[1, 0].plot(x, Chicago_Climate_2021_Tran['SNOW'])\n",
        "axs[1, 0].set_title(\"Snowfall\")\n",
        "axs[1, 0].sharex(axs[0, 0])\n",
        "axs[0, 1].plot(x, Chicago_Climate_2021_Tran['TMAX'])\n",
        "axs[0, 1].set_title(\"Maximum temperature\")\n",
        "axs[1, 1].plot(x, Chicago_Climate_2021_Tran['TMIN'])\n",
        "axs[1, 1].set_title(\"Minimum temperature\")\n",
        "axs[2, 0].plot(x, Chicago_Climate_2021_Tran['WSF2'])\n",
        "axs[2, 0].set_title(\"Fastest 2-minute wind speed\")\n",
        "axs[2, 1].plot(x, Chicago_Climate_2021_Tran['WDF2'])\n",
        "axs[2, 1].set_title(\"Direction of fastest 2-minute wind\")\n",
        "fig.tight_layout()"
      ],
      "metadata": {
        "id": "fqW_reZytn48"
      },
      "execution_count": null,
      "outputs": []
    },
    {
      "cell_type": "code",
      "source": [
        "#-------------------------------------------------------#\n",
        "#- Step 6 - drop irrelevant and highly correlated vars -#\n",
        "#-------------------------------------------------------#\n",
        "DropList = ['AWND','WSF5','WDF5','WESD','WESF','MDPR','DAPR','TOBS','TAVG']\n",
        "Chicago_Climate_2021_Tran = Chicago_Climate_2021_Tran.drop(columns=DropList)"
      ],
      "metadata": {
        "id": "yTQ6gpEJtn7P"
      },
      "execution_count": null,
      "outputs": []
    },
    {
      "cell_type": "code",
      "source": [
        "#--------------------------------------------#\n",
        "#- Step 7 - Combine with Chicago crime data -#\n",
        "#--------------------------------------------#\n",
        "ChiCrime = pd.read_csv(dest 'ChicagoCrime.csv')\n",
        "ChiCrime = ChiCrime.dropna()\n",
        "print(ChiCrime.columns)\n",
        "ChiCrime['date'] = pd.to_datetime(ChiCrime['date'])\n",
        "ChiCrime['Date'] = ChiCrime['date'].dt.strftime('%Y-%m-%d')\n",
        "ChiCrime['Hour'] = ChiCrime.date.map(lambda x: x.hour)\n",
        "#- drop irrelevant -#\n",
        "ChiCrime = ChiCrime.drop(columns=['case_number','date','block','iucr','description','arrest', 'domestic',\n",
        "'district', 'community_area', 'fbi_code', 'x_coordinate','y_coordinate', 'year', 'updated_on', 'latitude', 'longitude','location'])\n",
        "#- merge the distance to nearest police station -#\n",
        "Dist_Crime_To_Station = pd.read_csv(dest + 'Dist_Crime_To_Station.csv',usecols=['unique_key','HubDist'])\n",
        "ChiCrime = ChiCrime.merge(Dist_Crime_To_Station, how='left', on='unique_key')\n",
        "ChiCrime = ChiCrime.drop(columns=['unique_key'])\n",
        "#- merge the climate data -#\n",
        "ChiCrime = ChiCrime.merge(Chicago_Climate_2021_Tran, how='left', on='Date')\n",
        "ChiCrime = ChiCrime.fillna(0)\n",
        "ChiCrime.to_csv(dest + 'Chicago_Crime_Final_Data.csv',index=False)"
      ],
      "metadata": {
        "id": "cUipju_juZfW"
      },
      "execution_count": null,
      "outputs": []
    }
  ]
}